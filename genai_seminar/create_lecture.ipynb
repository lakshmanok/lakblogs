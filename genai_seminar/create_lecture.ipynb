{
 "cells": [
  {
   "cell_type": "markdown",
   "id": "830b7564-b4ac-4c93-a131-9d665bfdbd26",
   "metadata": {},
   "source": [
    "## Using Generative AI to automatically create a video lecture from an article\n",
    "\n",
    "This notebook uses Gemini to extract key points from an article and create a lecture script.\n",
    "\n",
    "Then, it uses Text to Speech to create the audio track\n",
    "\n",
    "And the Python library moviepy to create a movie.\n",
    "\n",
    "For details, see:\n",
    "https://medium.com/@lakshmanok/using-generative-ai-to-automatically-create-a-video-lecture-from-an-article-6381c44c5fe0"
   ]
  },
  {
   "cell_type": "code",
   "execution_count": 1,
   "id": "a300b8bf-ec63-486f-9da9-62b5379958d8",
   "metadata": {
    "tags": []
   },
   "outputs": [],
   "source": [
    "#%pip install --quiet --upgrade -r requirements.txt"
   ]
  },
  {
   "cell_type": "code",
   "execution_count": 2,
   "id": "53728163-bbaa-40b9-bcff-3f1118f4e625",
   "metadata": {
    "tags": []
   },
   "outputs": [],
   "source": [
    "import os\n",
    "import google.generativeai as genai\n",
    "from dotenv import load_dotenv\n",
    "\n",
    "load_dotenv(\"../genai_agents/keys.env\")\n",
    "genai.configure(api_key=os.environ[\"GOOGLE_API_KEY\"])"
   ]
  },
  {
   "cell_type": "markdown",
   "id": "d55600f6-80c0-48b2-8145-e05cee86c700",
   "metadata": {},
   "source": [
    "## Get text of article"
   ]
  },
  {
   "cell_type": "code",
   "execution_count": 3,
   "id": "d3844d37-22a4-46c4-a716-1a3c6544d452",
   "metadata": {
    "tags": []
   },
   "outputs": [],
   "source": [
    "ARTICLE_URL = \"https://lakshmanok.medium.com/what-goes-into-bronze-silver-and-gold-layers-of-a-medallion-data-architecture-4b6fdfb405fc\""
   ]
  },
  {
   "cell_type": "code",
   "execution_count": 4,
   "id": "638ce9c1-dd0d-412c-a5fb-82772786c678",
   "metadata": {
    "tags": []
   },
   "outputs": [
    {
     "data": {
      "text/plain": [
       "True"
      ]
     },
     "execution_count": 4,
     "metadata": {},
     "output_type": "execute_result"
    }
   ],
   "source": [
    "import pdfkit\n",
    "pdfkit.from_url(ARTICLE_URL, \"article.pdf\")"
   ]
  },
  {
   "cell_type": "code",
   "execution_count": 5,
   "id": "32bb05d4-dacc-4b8f-978d-2e7355febe78",
   "metadata": {},
   "outputs": [],
   "source": [
    "pdf_file = genai.upload_file(\"article.pdf\")"
   ]
  },
  {
   "cell_type": "markdown",
   "id": "f0a4bc5b-25b5-4382-9a56-753c69c44563",
   "metadata": {},
   "source": [
    "## Convert to lecture notes (JSON)"
   ]
  },
  {
   "cell_type": "code",
   "execution_count": 6,
   "id": "7e1df159-f11b-4a2e-a799-9204d71d1e71",
   "metadata": {
    "tags": []
   },
   "outputs": [],
   "source": [
    "lecture_prompt = \"\"\"\n",
    "You are a university professor who needs to create a lecture to\n",
    "a class of undergraduate students.\n",
    "\n",
    "* Create a 10-slide lecture based on the following article.\n",
    "* Each slide should contain the following information:\n",
    "  - title: a single sentence that summarizes the main point\n",
    "  - key_points: a list of between 2 and 5 bullet points. Use phrases, not full sentences.\n",
    "  - lecture_notes: 3-10 sentences explaining the key points in easy-to-understand language. Expand on the points using other information from the article.\n",
    "* Also, create a title for the lecture and attribute the original article's author.\n",
    "\"\"\""
   ]
  },
  {
   "cell_type": "code",
   "execution_count": 7,
   "id": "ec41fc9b-7e91-43ce-9f2a-5b5141aeb4ce",
   "metadata": {
    "tags": []
   },
   "outputs": [],
   "source": [
    "from pydantic import BaseModel\n",
    "from typing import List\n",
    "class Slide(BaseModel):\n",
    "    title: str\n",
    "    key_points: List[str]\n",
    "    lecture_notes: str\n",
    "\n",
    "class Lecture(BaseModel):\n",
    "    slides: List[Slide]\n",
    "    lecture_title: str\n",
    "    based_on_article_by: str"
   ]
  },
  {
   "cell_type": "code",
   "execution_count": 8,
   "id": "503dd091-dd83-4ccc-b00f-866da7749562",
   "metadata": {
    "tags": []
   },
   "outputs": [],
   "source": [
    "model = genai.GenerativeModel(\n",
    "    \"gemini-1.5-flash-001\",\n",
    "    system_instruction=[lecture_prompt]\n",
    ")\n",
    "generation_config={\n",
    "    \"temperature\": 0.7,\n",
    "    \"response_mime_type\": \"application/json\",\n",
    "    \"response_schema\": Lecture\n",
    "}\n",
    "responses = model.generate_content(\n",
    "    [pdf_file],\n",
    "    generation_config=generation_config,\n",
    "    stream=False\n",
    ")"
   ]
  },
  {
   "cell_type": "code",
   "execution_count": 9,
   "id": "fa03576e-6387-474d-b407-e571f705aa1b",
   "metadata": {
    "tags": []
   },
   "outputs": [],
   "source": [
    "import json\n",
    "lecture = json.loads(responses.text)"
   ]
  },
  {
   "cell_type": "code",
   "execution_count": 10,
   "id": "e2a0a7ad-d8a6-4824-8148-753943ab922d",
   "metadata": {
    "tags": []
   },
   "outputs": [
    {
     "data": {
      "text/plain": [
       "8"
      ]
     },
     "execution_count": 10,
     "metadata": {},
     "output_type": "execute_result"
    }
   ],
   "source": [
    "len(lecture['slides'])"
   ]
  },
  {
   "cell_type": "code",
   "execution_count": 11,
   "id": "cb6ebbfd-f6a8-47d4-a04f-6406f52f0e1c",
   "metadata": {
    "tags": []
   },
   "outputs": [
    {
     "data": {
      "text/plain": [
       "'The 4-Layer Medallion Architecture for Data Platforms'"
      ]
     },
     "execution_count": 11,
     "metadata": {},
     "output_type": "execute_result"
    }
   ],
   "source": [
    "lecture['lecture_title']"
   ]
  },
  {
   "cell_type": "code",
   "execution_count": 12,
   "id": "524e5983-ae14-4df2-895b-46d6bd935a0f",
   "metadata": {
    "tags": []
   },
   "outputs": [
    {
     "data": {
      "text/plain": [
       "{'key_points': ['Silver layer cleans, structures, and prepares data for self-service analytics.',\n",
       "  'Data is denormalized and organized for easier use.',\n",
       "  'Type 2 slowly changing dimensions are handled in this layer.',\n",
       "  'Governance responsibility lies with the source team.'],\n",
       " 'lecture_notes': 'The silver layer takes data from the bronze layer and transforms it into a usable format for self-service analytics. This involves cleaning, structuring, and organizing the data. Type 2 slowly changing dimensions, which track changes over time, are also handled in this layer. The governance of the silver layer rests with the source team, which is typically the data engineering team responsible for the source system.',\n",
       " 'title': 'The Silver Layer: Data Transformation and Preparation'}"
      ]
     },
     "execution_count": 12,
     "metadata": {},
     "output_type": "execute_result"
    }
   ],
   "source": [
    "lecture['slides'][2]"
   ]
  },
  {
   "cell_type": "code",
   "execution_count": 13,
   "id": "73269fef-3dee-4fef-9624-a91bc2bc912b",
   "metadata": {
    "tags": []
   },
   "outputs": [],
   "source": [
    "## Write this out\n",
    "with open(\"lecture.json\", \"w\") as ofp:\n",
    "    json.dump(lecture, ofp)"
   ]
  },
  {
   "cell_type": "markdown",
   "id": "cd6cf7f6-9c0d-47d3-b612-30b6a2b35092",
   "metadata": {},
   "source": [
    "## Convert lecture.json to PowerPoint"
   ]
  },
  {
   "cell_type": "code",
   "execution_count": 14,
   "id": "baad1b86-7ee4-4812-b311-24c02ee3790f",
   "metadata": {
    "tags": []
   },
   "outputs": [],
   "source": [
    "import json\n",
    "with open(\"lecture.json\", \"r\") as ifp:\n",
    "    lecture = json.load(ifp)"
   ]
  },
  {
   "cell_type": "code",
   "execution_count": 15,
   "id": "8a3d7b97-a6b8-4c33-8192-d1e3b3a96537",
   "metadata": {
    "tags": []
   },
   "outputs": [],
   "source": [
    "from pptx import Presentation\n",
    "presentation = Presentation()"
   ]
  },
  {
   "cell_type": "code",
   "execution_count": 16,
   "id": "b264f283-29a3-47d2-99ce-1f5f84a8e69c",
   "metadata": {
    "tags": []
   },
   "outputs": [],
   "source": [
    "# Title slide for presentation\n",
    "# see https://python-pptx.readthedocs.io/en/latest/user/quickstart.html\n",
    "slide = presentation.slides.add_slide(presentation.slide_layouts[0])\n",
    "title = slide.shapes.title\n",
    "title.text = lecture['lecture_title']\n",
    "subtitle = slide.placeholders[1] # subtitle\n",
    "subtitle.text = f\"Based on article by {lecture['based_on_article_by']}\""
   ]
  },
  {
   "cell_type": "code",
   "execution_count": 17,
   "id": "5d06bd52-a7e9-4eb0-bde5-dd3d9727a61c",
   "metadata": {
    "tags": []
   },
   "outputs": [],
   "source": [
    "# each slide\n",
    "for slidejson in lecture['slides']:\n",
    "    slide = presentation.slides.add_slide(presentation.slide_layouts[1])\n",
    "    title = slide.shapes.title\n",
    "    title.text = slidejson['title']\n",
    "    # bullets\n",
    "    textframe = slide.placeholders[1].text_frame\n",
    "    for key_point in slidejson['key_points']:\n",
    "        p = textframe.add_paragraph()\n",
    "        p.text = key_point\n",
    "        p.level = 1\n",
    "    # notes\n",
    "    notes_frame = slide.notes_slide.notes_text_frame\n",
    "    notes_frame.text = slidejson['lecture_notes']"
   ]
  },
  {
   "cell_type": "code",
   "execution_count": 18,
   "id": "35cb991a-2d88-4f6e-8051-36cb1ad91f88",
   "metadata": {
    "tags": []
   },
   "outputs": [],
   "source": [
    "presentation.save('lecture.pptx')"
   ]
  },
  {
   "cell_type": "markdown",
   "id": "5e629c38-abc9-4110-adfb-f56fb9084370",
   "metadata": {
    "tags": []
   },
   "source": [
    "<img src=\"powerpoint_screenshot.jpg\"/>"
   ]
  },
  {
   "cell_type": "markdown",
   "id": "f70bef9b-d302-4006-a9fa-947cdd76ead8",
   "metadata": {},
   "source": [
    "## Have AI read the notes aloud, and save the audio\n",
    "\n",
    "See: https://cloud.google.com/text-to-speech/docs/samples/tts-synthesize-text?hl=en"
   ]
  },
  {
   "cell_type": "code",
   "execution_count": 19,
   "id": "4a6b3ad5-b1a3-45cf-8521-fedd349824c5",
   "metadata": {
    "tags": []
   },
   "outputs": [],
   "source": [
    "from google.cloud import texttospeech\n",
    "\n",
    "def convert_text_audio(text, audio_mp3file):\n",
    "    \"\"\"Synthesizes speech from the input string of text.\"\"\"\n",
    "    tts_client = texttospeech.TextToSpeechClient()    \n",
    "    input_text = texttospeech.SynthesisInput(text=text)\n",
    "    \n",
    "    voice = texttospeech.VoiceSelectionParams(\n",
    "        language_code=\"en-US\",\n",
    "        name=\"en-US-Standard-C\",\n",
    "        ssml_gender=texttospeech.SsmlVoiceGender.FEMALE,\n",
    "    )\n",
    "    audio_config = texttospeech.AudioConfig(\n",
    "        audio_encoding=texttospeech.AudioEncoding.MP3\n",
    "    )\n",
    "\n",
    "    response = tts_client.synthesize_speech(\n",
    "        request={\"input\": input_text, \"voice\": voice, \"audio_config\": audio_config}\n",
    "    )\n",
    "\n",
    "    # The response's audio_content is binary.\n",
    "    with open(audio_mp3file, \"wb\") as out:\n",
    "        out.write(response.audio_content)\n",
    "        print(f\"{audio_mp3file} written.\")"
   ]
  },
  {
   "cell_type": "code",
   "execution_count": 20,
   "id": "053cdd88-af12-42ac-851d-4d862bc8c397",
   "metadata": {
    "tags": []
   },
   "outputs": [
    {
     "name": "stdout",
     "output_type": "stream",
     "text": [
      "article_audio/audio_00.mp3 written.\n",
      "article_audio/audio_01.mp3 written.\n",
      "article_audio/audio_02.mp3 written.\n",
      "article_audio/audio_03.mp3 written.\n",
      "article_audio/audio_04.mp3 written.\n",
      "article_audio/audio_05.mp3 written.\n",
      "article_audio/audio_06.mp3 written.\n",
      "article_audio/audio_07.mp3 written.\n",
      "article_audio/audio_08.mp3 written.\n"
     ]
    }
   ],
   "source": [
    "import json\n",
    "import os\n",
    "\n",
    "with open(\"lecture.json\", \"r\") as ifp:\n",
    "    lecture = json.load(ifp)\n",
    "\n",
    "def create_audio_files(lecture, outdir):\n",
    "    # create output directory\n",
    "    os.makedirs(outdir, exist_ok=True)\n",
    "    filenames = []\n",
    "    \n",
    "    # title slide\n",
    "    filename = os.path.join(outdir, \"audio_00.mp3\")\n",
    "    text = f\"Today, we are going to talk about {lecture['lecture_title']}.\\n\"\n",
    "    text += f\"This lecture is based on an article by {lecture['based_on_article_by']}. I'm going to assign that article as supplemental reading.\\n\"\n",
    "    convert_text_audio(text, filename)\n",
    "    filenames.append(filename)\n",
    "    \n",
    "    for slideno, slide in enumerate(lecture['slides']):\n",
    "        text = f\"On to {slide['title']} \\n\"\n",
    "        text += slide['lecture_notes'] + \"\\n\\n\"\n",
    "        filename = os.path.join(outdir, f\"audio_{slideno+1:02}.mp3\")\n",
    "        convert_text_audio(text, filename)\n",
    "        filenames.append(filename)\n",
    "        \n",
    "    return filenames\n",
    "\n",
    "audio_files = create_audio_files(lecture, \"article_audio\")"
   ]
  },
  {
   "cell_type": "code",
   "execution_count": 21,
   "id": "532942c0-9c39-4d3e-bfaf-525b140bd841",
   "metadata": {
    "tags": []
   },
   "outputs": [],
   "source": [
    "import pydub"
   ]
  },
  {
   "cell_type": "code",
   "execution_count": 22,
   "id": "fdecb7e9-009e-4619-bd84-80749cdc4106",
   "metadata": {
    "tags": []
   },
   "outputs": [
    {
     "data": {
      "text/plain": [
       "<_io.BufferedRandom name='lecture.wav'>"
      ]
     },
     "execution_count": 22,
     "metadata": {},
     "output_type": "execute_result"
    }
   ],
   "source": [
    "combined = pydub.AudioSegment.empty()\n",
    "for audio_file in audio_files:\n",
    "    audio = pydub.AudioSegment.from_file(audio_file)\n",
    "    combined += audio\n",
    "    # pause for 4 seconds\n",
    "    silence = pydub.AudioSegment.silent(duration=4000)\n",
    "    combined += silence\n",
    "combined.export(\"lecture.wav\", format=\"wav\")"
   ]
  },
  {
   "cell_type": "markdown",
   "id": "f023c902-e2d8-4524-a2f7-d14ae9cf4361",
   "metadata": {},
   "source": [
    "## Create a movie of the slides + audio clips\n",
    "\n",
    "Unfortunately pptx doesn't have a way to export slides as JPG. Let's create the images from scratch."
   ]
  },
  {
   "cell_type": "code",
   "execution_count": 23,
   "id": "a4061847-ef34-4f6f-8553-302f38a06e48",
   "metadata": {
    "tags": []
   },
   "outputs": [],
   "source": [
    "import json\n",
    "with open(\"lecture.json\", \"r\") as ifp:\n",
    "    lecture = json.load(ifp)"
   ]
  },
  {
   "cell_type": "code",
   "execution_count": 24,
   "id": "be5a6bb4-be9f-4d6e-af5d-957eddd72c76",
   "metadata": {
    "tags": []
   },
   "outputs": [],
   "source": [
    "# draw_multiline_text_2.py\n",
    "\n",
    "from PIL import Image, ImageDraw, ImageFont\n",
    "\n",
    "def wrap(text, width):\n",
    "    import textwrap\n",
    "    return '\\n'.join(textwrap.wrap(text, width=width))\n",
    "\n",
    "def text_to_image(output_path, title, keypoints):\n",
    "    image = Image.new(\"RGB\", (1000, 750), \"black\")\n",
    "    draw = ImageDraw.Draw(image)\n",
    "    title_font = ImageFont.truetype(\"Coval-Black.ttf\", size=42)\n",
    "    draw.multiline_text((10, 25), wrap(title, 50), font=title_font)\n",
    "    text_font = ImageFont.truetype(\"Coval-Light.ttf\", size=36)\n",
    "    for ptno, keypoint in enumerate(keypoints):\n",
    "        draw.multiline_text((10, (ptno+2)*100), wrap(keypoint, 60), font=text_font) \n",
    "    image.save(output_path)\n",
    "\n",
    "text_to_image(\"article_slides/slide_00.jpg\", \n",
    "              lecture['lecture_title'], \n",
    "              [f\"Based on article by {lecture['based_on_article_by']}\"]\n",
    "             )\n",
    "# each slide\n",
    "for slideno, slidejson in enumerate(lecture['slides']):\n",
    "    text_to_image(f\"article_slides/slide_{slideno+1:02}.jpg\",\n",
    "                  slidejson['title'],\n",
    "                  slidejson['key_points']\n",
    "                 )"
   ]
  },
  {
   "cell_type": "code",
   "execution_count": 25,
   "id": "08192b96-c751-417a-ae54-f8192dc948b6",
   "metadata": {
    "tags": []
   },
   "outputs": [
    {
     "data": {
      "image/jpeg": "[encoded data removed]",
      "text/plain": [
       "<IPython.core.display.Image object>"
      ]
     },
     "execution_count": 25,
     "metadata": {},
     "output_type": "execute_result"
    }
   ],
   "source": [
    "from IPython.display import Image\n",
    "Image(filename='article_slides/slide_03.jpg') "
   ]
  },
  {
   "cell_type": "code",
   "execution_count": 26,
   "id": "db27cb0e-a48a-4a51-84f4-b8241df3323c",
   "metadata": {
    "tags": []
   },
   "outputs": [],
   "source": [
    "from moviepy.editor import ImageClip, AudioFileClip, concatenate_videoclips"
   ]
  },
  {
   "cell_type": "code",
   "execution_count": 27,
   "id": "80cf7154-9571-4cc6-bd67-893c0c87ba3a",
   "metadata": {
    "tags": []
   },
   "outputs": [
    {
     "data": {
      "text/plain": [
       "['audio_00.mp3',\n",
       " 'audio_01.mp3',\n",
       " 'audio_02.mp3',\n",
       " 'audio_03.mp3',\n",
       " 'audio_04.mp3',\n",
       " 'audio_05.mp3',\n",
       " 'audio_06.mp3',\n",
       " 'audio_07.mp3',\n",
       " 'audio_08.mp3']"
      ]
     },
     "execution_count": 27,
     "metadata": {},
     "output_type": "execute_result"
    }
   ],
   "source": [
    "import os\n",
    "audio_files = sorted(os.listdir(\"article_audio\"))\n",
    "audio_files"
   ]
  },
  {
   "cell_type": "code",
   "execution_count": 28,
   "id": "56ae6635-3356-46a9-849f-a49fa12d93c5",
   "metadata": {
    "tags": []
   },
   "outputs": [
    {
     "data": {
      "text/plain": [
       "['slide_00.jpg',\n",
       " 'slide_01.jpg',\n",
       " 'slide_02.jpg',\n",
       " 'slide_03.jpg',\n",
       " 'slide_04.jpg',\n",
       " 'slide_05.jpg',\n",
       " 'slide_06.jpg',\n",
       " 'slide_07.jpg',\n",
       " 'slide_08.jpg']"
      ]
     },
     "execution_count": 28,
     "metadata": {},
     "output_type": "execute_result"
    }
   ],
   "source": [
    "slide_files = sorted(os.listdir(\"article_slides\"))\n",
    "slide_files"
   ]
  },
  {
   "cell_type": "code",
   "execution_count": 59,
   "id": "af05672f-c55d-4b4f-8533-8121b9472939",
   "metadata": {
    "tags": []
   },
   "outputs": [],
   "source": [
    "clips = []\n",
    "for slide, audio in zip(slide_files, audio_files):\n",
    "    audio_clip = AudioFileClip(f\"article_audio/{audio}\")\n",
    "    slide_clip = ImageClip(f\"article_slides/{slide}\").set_duration(audio_clip.duration)\n",
    "    slide_clip = slide_clip.set_audio(audio_clip)\n",
    "    clips.append(slide_clip)\n",
    "full_video = concatenate_videoclips(clips)"
   ]
  },
  {
   "cell_type": "code",
   "execution_count": 60,
   "id": "4e4aa7c0-f30a-4ad0-9c2b-8e1b50ce01bb",
   "metadata": {
    "tags": []
   },
   "outputs": [
    {
     "data": {
      "text/plain": [
       "269.35"
      ]
     },
     "execution_count": 60,
     "metadata": {},
     "output_type": "execute_result"
    }
   ],
   "source": [
    "full_video.duration"
   ]
  },
  {
   "cell_type": "code",
   "execution_count": null,
   "id": "6d88126e-1c40-41cc-8d1b-6e1e7935cd0a",
   "metadata": {
    "tags": []
   },
   "outputs": [],
   "source": [
    "full_video.write_videofile(\"lecture.mp4\", fps=24, codec=\"mpeg4\", \n",
    "                           temp_audiofile='temp-audio.mp4', remove_temp=True)"
   ]
  },
  {
   "cell_type": "code",
   "execution_count": 62,
   "id": "bfbaef9e-1e79-4d98-bae5-60938a0ba46a",
   "metadata": {
    "tags": []
   },
   "outputs": [
    {
     "name": "stdout",
     "output_type": "stream",
     "text": [
      "lecture.json  lecture.mp4  lecture.pptx  lecture.wav\n"
     ]
    }
   ],
   "source": [
    "!ls lecture.*"
   ]
  },
  {
   "cell_type": "code",
   "execution_count": null,
   "id": "2c0a3492-7604-4d09-96cf-fa30f968f7e8",
   "metadata": {},
   "outputs": [],
   "source": []
  }
 ],
 "metadata": {
  "environment": {
   "kernel": "conda-base-py",
   "name": "workbench-notebooks.m120",
   "type": "gcloud",
   "uri": "us-docker.pkg.dev/deeplearning-platform-release/gcr.io/workbench-notebooks:m120"
  },
  "kernelspec": {
   "display_name": "Python 3 (ipykernel)",
   "language": "python",
   "name": "conda-base-py"
  },
  "language_info": {
   "codemirror_mode": {
    "name": "ipython",
    "version": 3
   },
   "file_extension": ".py",
   "mimetype": "text/x-python",
   "name": "python",
   "nbconvert_exporter": "python",
   "pygments_lexer": "ipython3",
   "version": "3.10.14"
  }
 },
 "nbformat": 4,
 "nbformat_minor": 5
}
