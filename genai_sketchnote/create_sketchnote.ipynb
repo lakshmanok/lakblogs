{
 "cells": [
  {
   "cell_type": "markdown",
   "id": "830b7564-b4ac-4c93-a131-9d665bfdbd26",
   "metadata": {},
   "source": [
    "## Using Generative AI to create a sketchnote of an article\n",
    "\n",
    "This notebook uses GenAI to extract key points from an article and then connect them into a diagram.\n",
    "\n",
    "We do initial exploration with prompts, then look at a way to pull it all together into an agent framework for maintainability."
   ]
  },
  {
   "cell_type": "code",
   "execution_count": 1,
   "id": "a300b8bf-ec63-486f-9da9-62b5379958d8",
   "metadata": {
    "tags": []
   },
   "outputs": [],
   "source": [
    "#%pip install --quiet --upgrade -r requirements.txt"
   ]
  },
  {
   "cell_type": "code",
   "execution_count": 1,
   "id": "53728163-bbaa-40b9-bcff-3f1118f4e625",
   "metadata": {
    "tags": []
   },
   "outputs": [],
   "source": [
    "import os\n",
    "import google.generativeai as genai\n",
    "from dotenv import load_dotenv\n",
    "\n",
    "load_dotenv(\"../genai_agents/keys.env\")\n",
    "genai.configure(api_key=os.environ[\"GOOGLE_API_KEY\"])"
   ]
  },
  {
   "cell_type": "code",
   "execution_count": 6,
   "id": "15e645ac-cbef-465b-9628-856fc1c5819e",
   "metadata": {
    "tags": []
   },
   "outputs": [],
   "source": [
    "## params\n",
    "params = {\n",
    "    \"article_url\": \"https://en.wikipedia.org/wiki/Diwali\",\n",
    "    \"num_points\": 10,\n",
    "    \"topic\": \"Festivals of the World\"\n",
    "}"
   ]
  },
  {
   "cell_type": "markdown",
   "id": "d55600f6-80c0-48b2-8145-e05cee86c700",
   "metadata": {},
   "source": [
    "## Get text of article"
   ]
  },
  {
   "cell_type": "code",
   "execution_count": 3,
   "id": "638ce9c1-dd0d-412c-a5fb-82772786c678",
   "metadata": {
    "tags": []
   },
   "outputs": [
    {
     "data": {
      "text/plain": [
       "True"
      ]
     },
     "execution_count": 3,
     "metadata": {},
     "output_type": "execute_result"
    }
   ],
   "source": [
    "import pdfkit\n",
    "pdfkit.from_url(params['article_url'], \"article.pdf\")"
   ]
  },
  {
   "cell_type": "code",
   "execution_count": 4,
   "id": "32bb05d4-dacc-4b8f-978d-2e7355febe78",
   "metadata": {},
   "outputs": [],
   "source": [
    "pdf_file = genai.upload_file(\"article.pdf\")"
   ]
  },
  {
   "cell_type": "code",
   "execution_count": 5,
   "id": "6857b77f-af0d-49ba-89af-cc94643bf4be",
   "metadata": {
    "tags": []
   },
   "outputs": [
    {
     "name": "stdout",
     "output_type": "stream",
     "text": [
      "genai.File({\n",
      "    'name': 'files/hxrevzklojbz',\n",
      "    'display_name': 'article.pdf',\n",
      "    'mime_type': 'application/pdf',\n",
      "    'sha256_hash': 'NmFhYWUyYzMyZDE4NDdlMzZlYzAwY2E3ZmI0ZWQyMjE3MDE1OWE3NmM3ZGQ4YjVmOWMxMjM1YWEzNjM3OWQ4Ng==',\n",
      "    'size_bytes': '1124899',\n",
      "    'state': 'ACTIVE',\n",
      "    'uri': 'https://generativelanguage.googleapis.com/v1beta/files/hxrevzklojbz',\n",
      "    'create_time': '2024-11-01T22:36:46.713546Z',\n",
      "    'expiration_time': '2024-11-03T22:36:46.651229138Z',\n",
      "    'update_time': '2024-11-01T22:36:46.713546Z'})\n"
     ]
    }
   ],
   "source": [
    "print(pdf_file)"
   ]
  },
  {
   "cell_type": "markdown",
   "id": "f0a4bc5b-25b5-4382-9a56-753c69c44563",
   "metadata": {},
   "source": [
    "## Extract keypoints from article.\n",
    "\n",
    "Try it with a single prompt."
   ]
  },
  {
   "cell_type": "code",
   "execution_count": 7,
   "id": "7e1df159-f11b-4a2e-a799-9204d71d1e71",
   "metadata": {
    "tags": []
   },
   "outputs": [],
   "source": [
    "full_prompt = f\"\"\"\n",
    "You are an artist who is creating a sketchnote of an article. You are an expert on {params['topic']}.\n",
    "The purpose of the sketchnote is to use graphical elements to represent the contents of the article in an engaging and accurate way\n",
    "to people learning about the topic.\n",
    "\n",
    "You can use the following elements:\n",
    "  * Shapes (circle, rectangle, bubble, text)\n",
    "  * Containers (shaded box that contains multiple elements)\n",
    "  * Connector (line or arrow that connects two elements, with text that describes the relationship)\n",
    "  * Illustration (description of illustration to be drawn)\n",
    "\n",
    "You will follow the following process:\n",
    "  * Identify the most important {params['num_points']} ideas in the article. These could be direct quotes or summaries but should be one sentence or a sentence fragment.\n",
    "  * Represent each idea by a shape and assign it a sequential id.\n",
    "  * Organize the ideas into larger groups. Each group will be represented by a Container. Every container will have a short title of 5 words or less.\n",
    "  * Identify the connections between shapes and containers. Every connection will be explained by a short phrase of 5 words or less.\n",
    "  * For each shape, group, and connection, write a detailed description of an illustration that can represent the idea, suitable to use as a prompt to an image generation model.\n",
    "\"\"\""
   ]
  },
  {
   "cell_type": "code",
   "execution_count": 10,
   "id": "ec41fc9b-7e91-43ce-9f2a-5b5141aeb4ce",
   "metadata": {
    "tags": []
   },
   "outputs": [],
   "source": [
    "from pydantic import BaseModel\n",
    "from enum import IntEnum\n",
    "from typing import List\n",
    "\n",
    "class ShapeEnum(str, Enum):\n",
    "    circle = 'circle'         # represents verbs\n",
    "    rectange = 'rectangle'    # represents nouns\n",
    "    bubble = 'bubble'         # represents thoughts or ideas\n",
    "    text = 'text'             # catch all\n",
    "\n",
    "class Shape(BaseModel):\n",
    "    shape_id: str\n",
    "    shape_type: ShapeEnum\n",
    "    text: str\n",
    "    illustration: str\n",
    "    \n",
    "class Group(BaseModel):\n",
    "    shapes: List[str] # list of shape_id\n",
    "    title: str\n",
    "    illustration: str\n",
    "    \n",
    "class Connection(BaseModel):\n",
    "    from_shape: str # shape_id\n",
    "    to_shape: str # shape_id\n",
    "    relationship: str\n",
    "    illustration: str\n",
    "\n",
    "class Sketchnote(BaseModel):\n",
    "    title: str\n",
    "    ideas: List[Shape]\n",
    "    groups: List[Group]\n",
    "    connections: List[Connection]"
   ]
  },
  {
   "cell_type": "code",
   "execution_count": 14,
   "id": "503dd091-dd83-4ccc-b00f-866da7749562",
   "metadata": {
    "tags": []
   },
   "outputs": [
    {
     "name": "stdout",
     "output_type": "stream",
     "text": [
      "Generating content ... Attempt 1\n",
      "Error! Got incomplete JSON\n",
      "Generating content ... Attempt 2\n",
      "Error! Got incomplete JSON\n",
      "Generating content ... Attempt 3\n",
      "Error! Got incomplete JSON\n",
      "Generating content ... Attempt 4\n",
      "Success\n"
     ]
    }
   ],
   "source": [
    "import json\n",
    "\n",
    "model = genai.GenerativeModel(\n",
    "    \"gemini-1.5-flash-001\",\n",
    "    system_instruction=[full_prompt]\n",
    ")\n",
    "generation_config={\n",
    "    \"temperature\": 0.7,\n",
    "    \"max_output_tokens\": params['num_points']*10000,\n",
    "    \"response_mime_type\": \"application/json\",\n",
    "    \"response_schema\": Sketchnote\n",
    "}\n",
    "iter = 1\n",
    "while iter < 10:\n",
    "    print(f\"Generating content ... Attempt {iter}\")\n",
    "    responses = model.generate_content(\n",
    "        [pdf_file],\n",
    "        generation_config=generation_config,\n",
    "        stream=False\n",
    "    )\n",
    "    iter = iter + 1\n",
    "    if (str(responses.candidates[0].finish_reason) == \"FinishReason.STOP\"):\n",
    "        # complete JSON?\n",
    "        try:\n",
    "            sketchnote = json.loads(responses.text)\n",
    "            print(\"Success\")\n",
    "            break\n",
    "        except:\n",
    "            print(\"Error! Got incomplete JSON\")\n",
    "    else:\n",
    "        print(f\"Error! Got finish reason of {str(responses.candidates[0].finish_reason)}\")"
   ]
  },
  {
   "cell_type": "code",
   "execution_count": 15,
   "id": "8c4010c5-b7cb-46e3-afa3-e3f5e687dac5",
   "metadata": {
    "tags": []
   },
   "outputs": [
    {
     "name": "stdout",
     "output_type": "stream",
     "text": [
      "2421\n"
     ]
    }
   ],
   "source": [
    "print(len(responses.text))"
   ]
  },
  {
   "cell_type": "code",
   "execution_count": 16,
   "id": "e2a0a7ad-d8a6-4824-8148-753943ab922d",
   "metadata": {
    "tags": []
   },
   "outputs": [
    {
     "data": {
      "text/plain": [
       "13"
      ]
     },
     "execution_count": 16,
     "metadata": {},
     "output_type": "execute_result"
    }
   ],
   "source": [
    "len(sketchnote['ideas'])"
   ]
  },
  {
   "cell_type": "code",
   "execution_count": 19,
   "id": "f8f6df7a-a06b-40cc-9b24-22065ca5c46e",
   "metadata": {
    "tags": []
   },
   "outputs": [],
   "source": [
    "import json\n",
    "with open('sketchnote.json', 'w') as ofp:\n",
    "    ofp.write(json.dumps(sketchnote))"
   ]
  },
  {
   "cell_type": "code",
   "execution_count": 17,
   "id": "cb6ebbfd-f6a8-47d4-a04f-6406f52f0e1c",
   "metadata": {
    "tags": []
   },
   "outputs": [
    {
     "data": {
      "text/plain": [
       "{'connections': [{'from_shape': 'S1',\n",
       "   'relationship': 'Is celebrated',\n",
       "   'to_shape': 'G1'},\n",
       "  {'from_shape': 'S2', 'relationship': 'Is celebrated', 'to_shape': 'G1'},\n",
       "  {'from_shape': 'S3', 'relationship': 'Is celebrated', 'to_shape': 'G1'},\n",
       "  {'from_shape': 'S4', 'relationship': 'Is celebrated', 'to_shape': 'G1'},\n",
       "  {'from_shape': 'S5', 'relationship': 'Is celebrated', 'to_shape': 'G1'},\n",
       "  {'from_shape': 'S6', 'relationship': 'Is celebrated', 'to_shape': 'G1'},\n",
       "  {'from_shape': 'S7', 'relationship': 'Is celebrated', 'to_shape': 'G1'},\n",
       "  {'from_shape': 'S8', 'relationship': 'Is celebrated', 'to_shape': 'G1'},\n",
       "  {'from_shape': 'S9', 'relationship': 'Is celebrated', 'to_shape': 'G1'},\n",
       "  {'from_shape': 'S10', 'relationship': 'Is celebrated', 'to_shape': 'G1'},\n",
       "  {'from_shape': 'G1', 'relationship': 'Is celebrated', 'to_shape': 'G2'},\n",
       "  {'from_shape': 'G2', 'relationship': 'Is celebrated', 'to_shape': 'G3'}],\n",
       " 'groups': [{'shapes': ['S1',\n",
       "    'S2',\n",
       "    'S3',\n",
       "    'S4',\n",
       "    'S5',\n",
       "    'S6',\n",
       "    'S7',\n",
       "    'S8',\n",
       "    'S9',\n",
       "    'S10'],\n",
       "   'title': 'Main Festival'},\n",
       "  {'shapes': ['G1'], 'title': 'Religious Significance'},\n",
       "  {'shapes': ['G2', 'G3'], 'title': 'Other Traditions'}],\n",
       " 'ideas': [{'shape_id': 'S1',\n",
       "   'shape_type': 'rectangle',\n",
       "   'text': 'Victory of light over darkness'},\n",
       "  {'shape_id': 'S2',\n",
       "   'shape_type': 'rectangle',\n",
       "   'text': 'Victory of good over evil'},\n",
       "  {'shape_id': 'S3',\n",
       "   'shape_type': 'rectangle',\n",
       "   'text': 'Victory of knowledge over ignorance'},\n",
       "  {'shape_id': 'S4',\n",
       "   'shape_type': 'rectangle',\n",
       "   'text': 'Return of Rama to Ayodhya'},\n",
       "  {'shape_id': 'S5', 'shape_type': 'rectangle', 'text': 'Worship of Lakshmi'},\n",
       "  {'shape_id': 'S6', 'shape_type': 'rectangle', 'text': 'Worship of Ganesha'},\n",
       "  {'shape_id': 'S7', 'shape_type': 'rectangle', 'text': 'Worship of Kali'},\n",
       "  {'shape_id': 'S8', 'shape_type': 'rectangle', 'text': 'Worship of Krishna'},\n",
       "  {'shape_id': 'S9',\n",
       "   'shape_type': 'rectangle',\n",
       "   'text': 'Worship of Saraswati'},\n",
       "  {'shape_id': 'S10', 'shape_type': 'rectangle', 'text': 'Worship of Kubera'},\n",
       "  {'illustration': 'A circle with a light bulb inside',\n",
       "   'shape_id': 'G1',\n",
       "   'shape_type': 'circle',\n",
       "   'text': 'Victory of light over darkness, good over evil, knowledge over ignorance'},\n",
       "  {'illustration': 'A person holding a diya lamp',\n",
       "   'shape_id': 'G2',\n",
       "   'shape_type': 'bubble',\n",
       "   'text': 'Jainism, Sikhism, Buddhism'},\n",
       "  {'illustration': 'A person holding a diya lamp',\n",
       "   'shape_id': 'G3',\n",
       "   'shape_type': 'bubble',\n",
       "   'text': 'Other regional traditions'}],\n",
       " 'title': 'Diwali - Festival of Lights'}"
      ]
     },
     "execution_count": 17,
     "metadata": {},
     "output_type": "execute_result"
    }
   ],
   "source": [
    "sketchnote"
   ]
  },
  {
   "cell_type": "markdown",
   "id": "cd6cf7f6-9c0d-47d3-b612-30b6a2b35092",
   "metadata": {},
   "source": [
    "## Convert json to Graph"
   ]
  },
  {
   "cell_type": "code",
   "execution_count": 20,
   "id": "baad1b86-7ee4-4812-b311-24c02ee3790f",
   "metadata": {
    "tags": []
   },
   "outputs": [],
   "source": [
    "import json\n",
    "with open(\"sketchnote.json\", \"r\") as ifp:\n",
    "    sketchnote = json.load(ifp)"
   ]
  },
  {
   "cell_type": "code",
   "execution_count": null,
   "id": "2c0a3492-7604-4d09-96cf-fa30f968f7e8",
   "metadata": {},
   "outputs": [],
   "source": [
    "with open(\"sketchnote.dot\", \"w\") as ofp:\n",
    "    ofp.write(\"digraph {\")\n",
    "    for group in sketchnote['groups']:\n",
    "        ofp.write(f\"subgraph {group[''}\")"
   ]
  }
 ],
 "metadata": {
  "environment": {
   "kernel": "conda-base-py",
   "name": "workbench-notebooks.m120",
   "type": "gcloud",
   "uri": "us-docker.pkg.dev/deeplearning-platform-release/gcr.io/workbench-notebooks:m120"
  },
  "kernelspec": {
   "display_name": "Python 3 (ipykernel)",
   "language": "python",
   "name": "conda-base-py"
  },
  "language_info": {
   "codemirror_mode": {
    "name": "ipython",
    "version": 3
   },
   "file_extension": ".py",
   "mimetype": "text/x-python",
   "name": "python",
   "nbconvert_exporter": "python",
   "pygments_lexer": "ipython3",
   "version": "3.10.14"
  }
 },
 "nbformat": 4,
 "nbformat_minor": 5
}
